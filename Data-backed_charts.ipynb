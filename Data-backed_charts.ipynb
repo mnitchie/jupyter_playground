{
 "cells": [
  {
   "cell_type": "code",
   "execution_count": null,
   "id": "b4ac1cc2-019b-4e42-ba6a-5dfacd36ddb0",
   "metadata": {},
   "outputs": [],
   "source": [
    "import gspread\n",
    "from oauth2client.service_account import ServiceAccountCredentials\n",
    "\n",
    "# Initialize the client\n",
    "scope = [\"https://spreadsheets.google.com/feeds\", \"https://www.googleapis.com/auth/spreadsheets\",\n",
    "         \"https://www.googleapis.com/auth/drive.file\", \"https://www.googleapis.com/auth/drive\"]\n",
    "creds = ServiceAccountCredentials.from_json_keyfile_name(\"your-credentials.json\", scope)\n",
    "client = gspread.authorize(creds)\n",
    "\n",
    "# Open the Google Sheet\n",
    "sheet = client.open(\"Your Google Sheet Name\").worksheet(\"Your Worksheet Name\")\n",
    "\n",
    "# Fetch data\n",
    "balance_data = sheet.col_values(column_number_for_balance)  # Replace with the actual column number\n",
    "contribution_data = sheet.col_values(column_number_for_contribution)  # Replace with the actual column number\n",
    "\n",
    "# Convert to float\n",
    "balance_data = [float(x.replace(',', '').replace('$', '').strip()) for x in balance_data[1:]]  # Skip header\n",
    "contribution_data = [float(x.replace(',', '').replace('$', '').strip()) for x in contribution_data[1:]]  # Skip header\n"
   ]
  }
 ],
 "metadata": {
  "kernelspec": {
   "display_name": "Python 3 (ipykernel)",
   "language": "python",
   "name": "python3"
  },
  "language_info": {
   "codemirror_mode": {
    "name": "ipython",
    "version": 3
   },
   "file_extension": ".py",
   "mimetype": "text/x-python",
   "name": "python",
   "nbconvert_exporter": "python",
   "pygments_lexer": "ipython3",
   "version": "3.10.13"
  }
 },
 "nbformat": 4,
 "nbformat_minor": 5
}
