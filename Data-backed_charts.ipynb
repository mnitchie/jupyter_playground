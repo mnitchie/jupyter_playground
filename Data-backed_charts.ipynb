{
 "cells": [
  {
   "cell_type": "code",
   "execution_count": 2,
   "id": "b4ac1cc2-019b-4e42-ba6a-5dfacd36ddb0",
   "metadata": {},
   "outputs": [],
   "source": [
    "import gspread\n",
    "from oauth2client.service_account import ServiceAccountCredentials\n",
    "\n",
    "# Initialize the client\n",
    "scope = [\"https://spreadsheets.google.com/feeds\", \"https://www.googleapis.com/auth/spreadsheets\",\n",
    "         \"https://www.googleapis.com/auth/drive.file\", \"https://www.googleapis.com/auth/drive\"]\n",
    "creds = ServiceAccountCredentials.from_json_keyfile_name(\"service_creds.json\", scope)\n",
    "client = gspread.authorize(creds)\n",
    "\n",
    "# Open the Google Sheet\n",
    "sheet = client.open(\"Net Worth\").worksheet(\"Investment(Summary)\")\n",
    "\n",
    "# Fetch data\n",
    "balance_data = sheet.col_values(2, value_render_option=\"UNFORMATTED_VALUE\")  # Replace with the actual column number\n",
    "len(balance_data)\n",
    "contribution_data = sheet.col_values(3, value_render_option=\"UNFORMATTED_VALUE\")  # Replace with the actual column number\n",
    "#contribution_data\n",
    "\n",
    "# Convert to float\n",
    "#balance_data = [float(x.replace(',', '').replace('$', '').strip()) for x in balance_data[1:]]  # Skip header\n",
    "#contribution_data = [float(x.replace(',', '').replace('$', '').strip()) for x in contribution_data[1:]]  # Skip header\n"
   ]
  },
  {
   "cell_type": "code",
   "execution_count": null,
   "id": "13a62fc0-7cd0-4bb7-9efa-1c515cc7f4ff",
   "metadata": {},
   "outputs": [],
   "source": []
  }
 ],
 "metadata": {
  "kernelspec": {
   "display_name": "Python 3 (ipykernel)",
   "language": "python",
   "name": "python3"
  },
  "language_info": {
   "codemirror_mode": {
    "name": "ipython",
    "version": 3
   },
   "file_extension": ".py",
   "mimetype": "text/x-python",
   "name": "python",
   "nbconvert_exporter": "python",
   "pygments_lexer": "ipython3",
   "version": "3.10.13"
  }
 },
 "nbformat": 4,
 "nbformat_minor": 5
}
